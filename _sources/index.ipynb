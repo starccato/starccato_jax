{
 "nbformat": 4,
 "nbformat_minor": 0,
 "metadata": {
  "colab": {
   "provenance": []
  },
  "kernelspec": {
   "name": "python3",
   "display_name": "Python 3 (ipykernel)",
   "language": "python"
  },
  "language_info": {
   "name": "python"
  }
 },
 "cells": [
  {
   "metadata": {},
   "cell_type": "markdown",
   "source": [
    "# VAE+PE \n",
    "\n",
    "## Train VAE"
   ]
  },
  {
   "metadata": {
    "ExecuteTime": {
     "end_time": "2025-02-06T23:45:01.195723Z",
     "start_time": "2025-02-06T23:45:01.154430Z"
    }
   },
   "cell_type": "code",
   "source": [
    "%load_ext autoreload\n",
    "%autoreload 2"
   ],
   "outputs": [
    {
     "name": "stdout",
     "output_type": "stream",
     "text": [
      "The autoreload extension is already loaded. To reload it, use:\n",
      "  %reload_ext autoreload\n"
     ]
    }
   ],
   "execution_count": 104
  },
  {
   "cell_type": "code",
   "source": [
    "import numpy as np\n",
    "\n",
    "from starccato_jax.data import load_data\n",
    "import matplotlib.pyplot as plt\n",
    "import os\n",
    "\n",
    "HERE = os.getcwd()\n",
    "model_savedir = f\"{HERE}/model_out\"\n",
    "\n",
    "train_data, val_data = load_data()\n",
    "\n",
    "plt.figure(figsize=(3, 2.5))\n",
    "for i in range(100):\n",
    "    plt.plot(train_data[i], color='k', lw=0.3, alpha=0.2);\n",
    "plt.savefig(f\"{model_savedir}/training_data.png\")\n"
   ],
   "metadata": {
    "colab": {
     "base_uri": "https://localhost:8080/",
     "height": 458
    },
    "id": "SM9ChGZepx9D",
    "outputId": "358027ed-4e92-43ad-b3ab-aea7b98d5833"
   },
   "outputs": [],
   "execution_count": null
  },
  {
   "metadata": {},
   "cell_type": "markdown",
   "source": "![](model_out/training_data.png)"
  },
  {
   "cell_type": "code",
   "metadata": {
    "colab": {
     "base_uri": "https://localhost:8080/",
     "height": 1000
    },
    "id": "tPEgut-PlhHT",
    "outputId": "69483715-e10b-41c8-e5f9-eff3b65f5b6d"
   },
   "source": [
    "from starccato_jax.trainer import train_vae\n",
    "\n",
    "LATENT_DIM = 20\n",
    "\n",
    "train_vae(train_data, val_data, n_epochs=200, batch_size=32, latent_dim=LATENT_DIM, save_dir=model_savedir)"
   ],
   "outputs": [],
   "execution_count": null
  },
  {
   "metadata": {},
   "cell_type": "markdown",
   "source": [
    "| Loss | Reconstruction|\n",
    "|---|---|\n",
    "|![loss]| ![reconstructions] | \n",
    "\n",
    "[loss]: model_out/loss.png\n",
    "[reconstructions]: model_out/reconstructions.png"
   ]
  },
  {
   "metadata": {
    "ExecuteTime": {
     "end_time": "2025-02-07T00:53:39.757564Z",
     "start_time": "2025-02-07T00:53:38.841967Z"
    }
   },
   "cell_type": "code",
   "source": [
    "from starccato_jax.trainer import load_model\n",
    "from starccato_jax.model import generate\n",
    "import jax\n",
    "\n",
    "zs = jax.random.uniform(jax.random.PRNGKey(0), (100, LATENT_DIM))\n",
    "\n",
    "generated_signal = generate(*load_model(model_savedir), z=zs)\n",
    "for i in range(100):\n",
    "    plt.plot(generated_signal[i], color='tab:orange', alpha=0.3)"
   ],
   "outputs": [
    {
     "name": "stderr",
     "output_type": "stream",
     "text": [
      "/Users/avaj0001/Documents/projects/venvs/starccato_jax/lib/python3.11/site-packages/orbax/checkpoint/_src/serialization/type_handlers.py:1175: UserWarning: Couldn't find sharding info under RestoreArgs. Populating sharding info from sharding file. Please note restoration time will be slightly increased due to reading from file instead of directly from RestoreArgs. Note also that this option is unsafe when restoring on a different topology than the checkpoint was saved with.\n",
      "  warnings.warn(\n"
     ]
    },
    {
     "data": {
      "text/plain": [
       "<Figure size 640x480 with 1 Axes>"
      ],
      "image/png": "[encoded data removed]"
     },
     "metadata": {},
     "output_type": "display_data"
    }
   ],
   "execution_count": 11
  },
  {
   "metadata": {},
   "cell_type": "markdown",
   "source": "## MCMC on one validation dataset"
  },
  {
   "metadata": {},
   "cell_type": "code",
   "source": [
    "from starccato_jax.sampler import sample_latent_vars_given_data\n",
    "\n",
    "mcmc_out = sample_latent_vars_given_data(val_data[10], model_savedir, rng_int=0, outdir=f\"{HERE}/out_mcmc\")"
   ],
   "outputs": [],
   "execution_count": null
  },
  {
   "metadata": {},
   "cell_type": "markdown",
   "source": "It’s always a good idea to check the convergence of your MCMC sampler, and we’ll use ArviZ to do that here, looking at the Gelman–Rubin (r_hat) statistic, and the effective sample sizes (e.g. ess_bulk):"
  },
  {
   "metadata": {
    "ExecuteTime": {
     "end_time": "2025-02-07T00:55:52.963428Z",
     "start_time": "2025-02-07T00:55:52.456869Z"
    }
   },
   "cell_type": "code",
   "source": [
    "import arviz as az\n",
    "\n",
    "inf_data = az.from_numpyro(mcmc_out)\n",
    "az.summary(inf_data, var_names=['z'])"
   ],
   "outputs": [
    {
     "data": {
      "text/plain": [
       "        mean     sd  hdi_3%  hdi_97%  mcse_mean  mcse_sd  ess_bulk  ess_tail  \\\n",
       "z[0]   0.665  0.255   0.167    1.000      0.004    0.003    4032.0    2538.0   \n",
       "z[1]   0.691  0.255   0.191    1.000      0.004    0.003    3499.0    2218.0   \n",
       "z[2]   0.371  0.257   0.001    0.836      0.004    0.003    3778.0    2524.0   \n",
       "z[3]   0.937  0.064   0.821    1.000      0.001    0.001    4269.0    1812.0   \n",
       "z[4]   0.930  0.063   0.813    1.000      0.001    0.001    3241.0    1865.0   \n",
       "z[5]   0.245  0.215   0.000    0.671      0.003    0.003    3919.0    1991.0   \n",
       "z[6]   0.232  0.208   0.000    0.634      0.004    0.004    3176.0    1761.0   \n",
       "z[7]   0.513  0.285   0.061    0.994      0.004    0.003    4266.0    1838.0   \n",
       "z[8]   0.397  0.282   0.001    0.905      0.005    0.004    4029.0    2473.0   \n",
       "z[9]   0.333  0.259   0.000    0.823      0.004    0.004    3750.0    2122.0   \n",
       "z[10]  0.246  0.208   0.000    0.653      0.003    0.003    3696.0    2307.0   \n",
       "z[11]  0.188  0.173   0.000    0.517      0.003    0.002    4603.0    2601.0   \n",
       "z[12]  0.950  0.049   0.860    1.000      0.001    0.000    4221.0    2303.0   \n",
       "z[13]  0.191  0.177   0.000    0.539      0.003    0.003    3562.0    2323.0   \n",
       "z[14]  0.012  0.012   0.000    0.036      0.000    0.000    2634.0    1522.0   \n",
       "z[15]  0.268  0.228   0.000    0.708      0.003    0.003    4904.0    2494.0   \n",
       "z[16]  0.833  0.168   0.513    1.000      0.003    0.002    3659.0    1990.0   \n",
       "z[17]  0.915  0.084   0.763    1.000      0.001    0.001    3760.0    2229.0   \n",
       "z[18]  0.134  0.139   0.000    0.388      0.002    0.002    3613.0    1856.0   \n",
       "z[19]  0.050  0.050   0.000    0.138      0.001    0.001    4933.0    2166.0   \n",
       "\n",
       "       r_hat  \n",
       "z[0]     1.0  \n",
       "z[1]     1.0  \n",
       "z[2]     1.0  \n",
       "z[3]     1.0  \n",
       "z[4]     1.0  \n",
       "z[5]     1.0  \n",
       "z[6]     1.0  \n",
       "z[7]     1.0  \n",
       "z[8]     1.0  \n",
       "z[9]     1.0  \n",
       "z[10]    1.0  \n",
       "z[11]    1.0  \n",
       "z[12]    1.0  \n",
       "z[13]    1.0  \n",
       "z[14]    1.0  \n",
       "z[15]    1.0  \n",
       "z[16]    1.0  \n",
       "z[17]    1.0  \n",
       "z[18]    1.0  \n",
       "z[19]    1.0  "
      ],
      "text/html": [
       "<div>\n",
       "<style scoped>\n",
       "    .dataframe tbody tr th:only-of-type {\n",
       "        vertical-align: middle;\n",
       "    }\n",
       "\n",
       "    .dataframe tbody tr th {\n",
       "        vertical-align: top;\n",
       "    }\n",
       "\n",
       "    .dataframe thead th {\n",
       "        text-align: right;\n",
       "    }\n",
       "</style>\n",
       "<table border=\"1\" class=\"dataframe\">\n",
       "  <thead>\n",
       "    <tr style=\"text-align: right;\">\n",
       "      <th></th>\n",
       "      <th>mean</th>\n",
       "      <th>sd</th>\n",
       "      <th>hdi_3%</th>\n",
       "      <th>hdi_97%</th>\n",
       "      <th>mcse_mean</th>\n",
       "      <th>mcse_sd</th>\n",
       "      <th>ess_bulk</th>\n",
       "      <th>ess_tail</th>\n",
       "      <th>r_hat</th>\n",
       "    </tr>\n",
       "  </thead>\n",
       "  <tbody>\n",
       "    <tr>\n",
       "      <th>z[0]</th>\n",
       "      <td>0.665</td>\n",
       "      <td>0.255</td>\n",
       "      <td>0.167</td>\n",
       "      <td>1.000</td>\n",
       "      <td>0.004</td>\n",
       "      <td>0.003</td>\n",
       "      <td>4032.0</td>\n",
       "      <td>2538.0</td>\n",
       "      <td>1.0</td>\n",
       "    </tr>\n",
       "    <tr>\n",
       "      <th>z[1]</th>\n",
       "      <td>0.691</td>\n",
       "      <td>0.255</td>\n",
       "      <td>0.191</td>\n",
       "      <td>1.000</td>\n",
       "      <td>0.004</td>\n",
       "      <td>0.003</td>\n",
       "      <td>3499.0</td>\n",
       "      <td>2218.0</td>\n",
       "      <td>1.0</td>\n",
       "    </tr>\n",
       "    <tr>\n",
       "      <th>z[2]</th>\n",
       "      <td>0.371</td>\n",
       "      <td>0.257</td>\n",
       "      <td>0.001</td>\n",
       "      <td>0.836</td>\n",
       "      <td>0.004</td>\n",
       "      <td>0.003</td>\n",
       "      <td>3778.0</td>\n",
       "      <td>2524.0</td>\n",
       "      <td>1.0</td>\n",
       "    </tr>\n",
       "    <tr>\n",
       "      <th>z[3]</th>\n",
       "      <td>0.937</td>\n",
       "      <td>0.064</td>\n",
       "      <td>0.821</td>\n",
       "      <td>1.000</td>\n",
       "      <td>0.001</td>\n",
       "      <td>0.001</td>\n",
       "      <td>4269.0</td>\n",
       "      <td>1812.0</td>\n",
       "      <td>1.0</td>\n",
       "    </tr>\n",
       "    <tr>\n",
       "      <th>z[4]</th>\n",
       "      <td>0.930</td>\n",
       "      <td>0.063</td>\n",
       "      <td>0.813</td>\n",
       "      <td>1.000</td>\n",
       "      <td>0.001</td>\n",
       "      <td>0.001</td>\n",
       "      <td>3241.0</td>\n",
       "      <td>1865.0</td>\n",
       "      <td>1.0</td>\n",
       "    </tr>\n",
       "    <tr>\n",
       "      <th>z[5]</th>\n",
       "      <td>0.245</td>\n",
       "      <td>0.215</td>\n",
       "      <td>0.000</td>\n",
       "      <td>0.671</td>\n",
       "      <td>0.003</td>\n",
       "      <td>0.003</td>\n",
       "      <td>3919.0</td>\n",
       "      <td>1991.0</td>\n",
       "      <td>1.0</td>\n",
       "    </tr>\n",
       "    <tr>\n",
       "      <th>z[6]</th>\n",
       "      <td>0.232</td>\n",
       "      <td>0.208</td>\n",
       "      <td>0.000</td>\n",
       "      <td>0.634</td>\n",
       "      <td>0.004</td>\n",
       "      <td>0.004</td>\n",
       "      <td>3176.0</td>\n",
       "      <td>1761.0</td>\n",
       "      <td>1.0</td>\n",
       "    </tr>\n",
       "    <tr>\n",
       "      <th>z[7]</th>\n",
       "      <td>0.513</td>\n",
       "      <td>0.285</td>\n",
       "      <td>0.061</td>\n",
       "      <td>0.994</td>\n",
       "      <td>0.004</td>\n",
       "      <td>0.003</td>\n",
       "      <td>4266.0</td>\n",
       "      <td>1838.0</td>\n",
       "      <td>1.0</td>\n",
       "    </tr>\n",
       "    <tr>\n",
       "      <th>z[8]</th>\n",
       "      <td>0.397</td>\n",
       "      <td>0.282</td>\n",
       "      <td>0.001</td>\n",
       "      <td>0.905</td>\n",
       "      <td>0.005</td>\n",
       "      <td>0.004</td>\n",
       "      <td>4029.0</td>\n",
       "      <td>2473.0</td>\n",
       "      <td>1.0</td>\n",
       "    </tr>\n",
       "    <tr>\n",
       "      <th>z[9]</th>\n",
       "      <td>0.333</td>\n",
       "      <td>0.259</td>\n",
       "      <td>0.000</td>\n",
       "      <td>0.823</td>\n",
       "      <td>0.004</td>\n",
       "      <td>0.004</td>\n",
       "      <td>3750.0</td>\n",
       "      <td>2122.0</td>\n",
       "      <td>1.0</td>\n",
       "    </tr>\n",
       "    <tr>\n",
       "      <th>z[10]</th>\n",
       "      <td>0.246</td>\n",
       "      <td>0.208</td>\n",
       "      <td>0.000</td>\n",
       "      <td>0.653</td>\n",
       "      <td>0.003</td>\n",
       "      <td>0.003</td>\n",
       "      <td>3696.0</td>\n",
       "      <td>2307.0</td>\n",
       "      <td>1.0</td>\n",
       "    </tr>\n",
       "    <tr>\n",
       "      <th>z[11]</th>\n",
       "      <td>0.188</td>\n",
       "      <td>0.173</td>\n",
       "      <td>0.000</td>\n",
       "      <td>0.517</td>\n",
       "      <td>0.003</td>\n",
       "      <td>0.002</td>\n",
       "      <td>4603.0</td>\n",
       "      <td>2601.0</td>\n",
       "      <td>1.0</td>\n",
       "    </tr>\n",
       "    <tr>\n",
       "      <th>z[12]</th>\n",
       "      <td>0.950</td>\n",
       "      <td>0.049</td>\n",
       "      <td>0.860</td>\n",
       "      <td>1.000</td>\n",
       "      <td>0.001</td>\n",
       "      <td>0.000</td>\n",
       "      <td>4221.0</td>\n",
       "      <td>2303.0</td>\n",
       "      <td>1.0</td>\n",
       "    </tr>\n",
       "    <tr>\n",
       "      <th>z[13]</th>\n",
       "      <td>0.191</td>\n",
       "      <td>0.177</td>\n",
       "      <td>0.000</td>\n",
       "      <td>0.539</td>\n",
       "      <td>0.003</td>\n",
       "      <td>0.003</td>\n",
       "      <td>3562.0</td>\n",
       "      <td>2323.0</td>\n",
       "      <td>1.0</td>\n",
       "    </tr>\n",
       "    <tr>\n",
       "      <th>z[14]</th>\n",
       "      <td>0.012</td>\n",
       "      <td>0.012</td>\n",
       "      <td>0.000</td>\n",
       "      <td>0.036</td>\n",
       "      <td>0.000</td>\n",
       "      <td>0.000</td>\n",
       "      <td>2634.0</td>\n",
       "      <td>1522.0</td>\n",
       "      <td>1.0</td>\n",
       "    </tr>\n",
       "    <tr>\n",
       "      <th>z[15]</th>\n",
       "      <td>0.268</td>\n",
       "      <td>0.228</td>\n",
       "      <td>0.000</td>\n",
       "      <td>0.708</td>\n",
       "      <td>0.003</td>\n",
       "      <td>0.003</td>\n",
       "      <td>4904.0</td>\n",
       "      <td>2494.0</td>\n",
       "      <td>1.0</td>\n",
       "    </tr>\n",
       "    <tr>\n",
       "      <th>z[16]</th>\n",
       "      <td>0.833</td>\n",
       "      <td>0.168</td>\n",
       "      <td>0.513</td>\n",
       "      <td>1.000</td>\n",
       "      <td>0.003</td>\n",
       "      <td>0.002</td>\n",
       "      <td>3659.0</td>\n",
       "      <td>1990.0</td>\n",
       "      <td>1.0</td>\n",
       "    </tr>\n",
       "    <tr>\n",
       "      <th>z[17]</th>\n",
       "      <td>0.915</td>\n",
       "      <td>0.084</td>\n",
       "      <td>0.763</td>\n",
       "      <td>1.000</td>\n",
       "      <td>0.001</td>\n",
       "      <td>0.001</td>\n",
       "      <td>3760.0</td>\n",
       "      <td>2229.0</td>\n",
       "      <td>1.0</td>\n",
       "    </tr>\n",
       "    <tr>\n",
       "      <th>z[18]</th>\n",
       "      <td>0.134</td>\n",
       "      <td>0.139</td>\n",
       "      <td>0.000</td>\n",
       "      <td>0.388</td>\n",
       "      <td>0.002</td>\n",
       "      <td>0.002</td>\n",
       "      <td>3613.0</td>\n",
       "      <td>1856.0</td>\n",
       "      <td>1.0</td>\n",
       "    </tr>\n",
       "    <tr>\n",
       "      <th>z[19]</th>\n",
       "      <td>0.050</td>\n",
       "      <td>0.050</td>\n",
       "      <td>0.000</td>\n",
       "      <td>0.138</td>\n",
       "      <td>0.001</td>\n",
       "      <td>0.001</td>\n",
       "      <td>4933.0</td>\n",
       "      <td>2166.0</td>\n",
       "      <td>1.0</td>\n",
       "    </tr>\n",
       "  </tbody>\n",
       "</table>\n",
       "</div>"
      ]
     },
     "execution_count": 14,
     "metadata": {},
     "output_type": "execute_result"
    }
   ],
   "execution_count": 14
  },
  {
   "metadata": {},
   "cell_type": "markdown",
   "source": [
    "|        | |\n",
    "|--------|--|\n",
    "| Trace  | ![trace_plot][trace_plot] |\n",
    "| Corner | ![corner_plot][corner_plot] |\n",
    "| CI     | ![ci_plot][ci_plot] |\n",
    "\n",
    "\n",
    "[ci_plot]: out_mcmc/ci_plot.png\n",
    "[corner_plot]: out_mcmc/corner_plot.png\n",
    "[trace_plot]: out_mcmc/trace_plot.png"
   ]
  },
  {
   "metadata": {},
   "cell_type": "markdown",
   "source": "## Exploring better number of Z\n"
  },
  {
   "metadata": {},
   "cell_type": "code",
   "source": [
    "from starccato_jax.trainer import train_vae\n",
    "\n",
    "for z_size in [4, 8, 12, 16, 20]:\n",
    "    train_vae(train_data, val_data, latent_dim=z_size, n_epochs=200,\n",
    "              save_dir=f\"{HERE}/model_exploration/model_z{z_size}\"\n",
    "              )"
   ],
   "outputs": [],
   "execution_count": null
  },
  {
   "metadata": {
    "ExecuteTime": {
     "end_time": "2025-02-07T00:50:35.840557Z",
     "start_time": "2025-02-07T00:50:35.595930Z"
    }
   },
   "cell_type": "code",
   "source": [
    "z_sizes = [4, 8, 12, 16, 20]\n",
    "\n",
    "train_losses, val_losses  = [], []\n",
    "for z_size in z_sizes:\n",
    "    # read the losses\n",
    "    loss_fpath = f\"{HERE}/model_exploration/model_z{z_size}/losses.txt\"\n",
    "    data = np.loadtxt(loss_fpath)\n",
    "    train_losses.append(data[-1, 0])\n",
    "    val_losses.append(data[-1, 1])\n",
    "\n",
    "\n",
    "\n",
    "## PLOT\n",
    "plt.figure(figsize=(8, 4))\n",
    "plt.plot(z_sizes, train_losses, label=\"Train Loss\")\n",
    "plt.plot(z_sizes, val_losses, label=\"Val Loss\")\n",
    "plt.xlabel('Latent Dimension')\n",
    "plt.ylabel('Loss')\n",
    "plt.title(\"Loss at 200 epochs\")\n",
    "plt.legend()\n"
   ],
   "outputs": [
    {
     "data": {
      "text/plain": [
       "<matplotlib.legend.Legend at 0x1327c2c90>"
      ]
     },
     "execution_count": 9,
     "metadata": {},
     "output_type": "execute_result"
    },
    {
     "data": {
      "text/plain": [
       "<Figure size 800x400 with 1 Axes>"
      ],
      "image/png": "[encoded data removed]"
     },
     "metadata": {},
     "output_type": "display_data"
    }
   ],
   "execution_count": 9
  },
  {
   "metadata": {},
   "cell_type": "code",
   "outputs": [],
   "execution_count": null,
   "source": ""
  }
 ]
}
