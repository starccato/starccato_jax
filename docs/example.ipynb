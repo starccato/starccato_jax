{
 "nbformat": 4,
 "nbformat_minor": 0,
 "metadata": {
  "colab": {
   "provenance": []
  },
  "kernelspec": {
   "name": "python3",
   "display_name": "Python 3 (ipykernel)",
   "language": "python"
  },
  "language_info": {
   "name": "python"
  }
 },
 "cells": [
  {
   "metadata": {},
   "cell_type": "markdown",
   "source": [
    "<a target=\"_blank\" href=\"https://colab.research.google.com/github/starccato/starccato_jax/blob/main/docs/example.ipynb\">\n",
    "  <img src=\"https://colab.research.google.com/assets/colab-badge.svg\" alt=\"Open In Colab\"/>\n",
    "</a>\n",
    "\n",
    "\n",
    "# Example \n",
    "\n",
    "## Train VAE"
   ]
  },
  {
   "metadata": {},
   "cell_type": "code",
   "source": [
    "%load_ext autoreload\n",
    "%autoreload 2\n",
    "\n",
    "! pip install starccato_jax starccato_sampler -q"
   ],
   "outputs": [],
   "execution_count": null
  },
  {
   "metadata": {},
   "cell_type": "code",
   "source": [
    "import starccato_jax\n",
    "import starccato_sampler\n",
    "\n",
    "print(f\"starccato_jax version: {starccato_jax.__version__}\")\n",
    "print(f\"starccato_sampler version: {starccato_sampler.__version__}\")"
   ],
   "outputs": [],
   "execution_count": null
  },
  {
   "cell_type": "code",
   "source": [
    "from starccato_jax.data import load_training_data\n",
    "import matplotlib.pyplot as plt\n",
    "import os\n",
    "\n",
    "HERE = os.getcwd()\n",
    "model_savedir = f\"{HERE}/model_out\"\n",
    "os.makedirs(model_savedir, exist_ok=True)\n",
    "\n",
    "train_data, val_data = load_training_data()\n",
    "\n",
    "plt.figure(figsize=(3, 2.5))\n",
    "for i in range(100):\n",
    "    plt.plot(train_data[i], color=\"k\", lw=0.3, alpha=0.2)\n",
    "plt.savefig(f\"{model_savedir}/training_data.png\")"
   ],
   "metadata": {
    "colab": {
     "base_uri": "https://localhost:8080/",
     "height": 458
    },
    "id": "SM9ChGZepx9D",
    "outputId": "358027ed-4e92-43ad-b3ab-aea7b98d5833"
   },
   "outputs": [],
   "execution_count": null
  },
  {
   "metadata": {},
   "cell_type": "markdown",
   "source": "![](model_out/training_data.png)"
  },
  {
   "cell_type": "code",
   "metadata": {
    "colab": {
     "base_uri": "https://localhost:8080/",
     "height": 1000
    },
    "id": "tPEgut-PlhHT",
    "outputId": "69483715-e10b-41c8-e5f9-eff3b65f5b6d"
   },
   "source": [
    "from starccato_jax import Config, StarccatoVAE\n",
    "\n",
    "RETRAIN = False\n",
    "\n",
    "if RETRAIN:\n",
    "    config = Config(latent_dim=16, epochs=300, cyclical_annealing_cycles=0)\n",
    "    starccato_vae = StarccatoVAE.train(\n",
    "        model_dir=model_savedir,\n",
    "        config=config,\n",
    "        plot_every=50,\n",
    "        print_every=50,\n",
    "    )\n",
    "else:\n",
    "    model_savedir = None\n",
    "    starccato_vae = StarccatoVAE()"
   ],
   "outputs": [],
   "execution_count": null
  },
  {
   "metadata": {},
   "cell_type": "markdown",
   "source": [
    "|                     |          |\n",
    "|---------------------|----------|\n",
    "| **Loss**            |  ![loss] |  \n",
    "| **Reconstructions** | ![reconstructions] | \n",
    "\n",
    "[loss]: model_out/loss.png\n",
    "[reconstructions]: model_out/reconstructions.png"
   ]
  },
  {
   "metadata": {},
   "cell_type": "code",
   "source": [
    "import jax\n",
    "\n",
    "n = len(val_data)\n",
    "zs = jax.random.normal(jax.random.PRNGKey(0), (n, starccato_vae.latent_dim))\n",
    "\n",
    "generated_signal = starccato_vae.generate(z=zs)\n",
    "for i in range(n):\n",
    "    kwgs = dict(lw=0.1, alpha=0.1)\n",
    "    plt.plot(generated_signal[i], color=\"tab:orange\", **kwgs)\n",
    "    plt.plot(val_data[i], color=\"k\", **kwgs)"
   ],
   "outputs": [],
   "execution_count": null
  },
  {
   "metadata": {},
   "cell_type": "code",
   "source": [
    "fig, ax = plt.subplots()\n",
    "starccato_vae.plot(ax, n=100, ci=0.95)\n",
    "starccato_vae.plot(ax, n=100, ci=0.5)"
   ],
   "outputs": [],
   "execution_count": null
  },
  {
   "metadata": {},
   "cell_type": "markdown",
   "source": "## MCMC on one validation dataset"
  },
  {
   "metadata": {},
   "cell_type": "code",
   "source": [
    "from starccato_sampler.sampler import sample\n",
    "\n",
    "mcmc_out = sample(\n",
    "    train_data[54], model_savedir, rng_int=0, outdir=f\"{HERE}/out_mcmc\"\n",
    ")"
   ],
   "outputs": [],
   "execution_count": null
  },
  {
   "metadata": {},
   "cell_type": "code",
   "source": [
    "import arviz as az\n",
    "\n",
    "inf_data = az.from_numpyro(mcmc_out)\n",
    "az.summary(inf_data, var_names=[\"z\"])"
   ],
   "outputs": [],
   "execution_count": null
  },
  {
   "metadata": {},
   "cell_type": "markdown",
   "source": [
    "|            | |\n",
    "|------------|--|\n",
    "| **Trace**  | ![trace_plot][trace_plot] |\n",
    "| **Corner** | ![corner_plot][corner_plot] |\n",
    "| **CI**     | ![ci_plot][ci_plot] |\n",
    "\n",
    "\n",
    "[ci_plot]: out_mcmc/ci_plot.png\n",
    "[corner_plot]: out_mcmc/corner_plot.png\n",
    "[trace_plot]: out_mcmc/trace_plot.png"
   ]
  },
  {
   "metadata": {},
   "cell_type": "markdown",
   "source": "\n"
  }
 ]
}
