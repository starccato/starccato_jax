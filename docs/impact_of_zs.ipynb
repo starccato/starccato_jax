{
 "cells": [
  {
   "metadata": {},
   "cell_type": "markdown",
   "source": "# ",
   "id": "d0fc530a9f323e01"
  },
  {
   "cell_type": "code",
   "execution_count": null,
   "id": "initial_id",
   "metadata": {
    "collapsed": true
   },
   "outputs": [],
   "source": ""
  },
  {
   "metadata": {},
   "cell_type": "markdown",
   "source": [
    "At 500 epochs:\n",
    "\n",
    "\n",
    "\n",
    "![](model_exploration/loss_vs_z.png)"
   ],
   "id": "67eb4ce09dd56175"
  },
  {
   "metadata": {},
   "cell_type": "code",
   "outputs": [],
   "execution_count": null,
   "source": "",
   "id": "aa370265e5067da8"
  }
 ],
 "metadata": {
  "kernelspec": {
   "display_name": "Python 3",
   "language": "python",
   "name": "python3"
  },
  "language_info": {
   "codemirror_mode": {
    "name": "ipython",
    "version": 2
   },
   "file_extension": ".py",
   "mimetype": "text/x-python",
   "name": "python",
   "nbconvert_exporter": "python",
   "pygments_lexer": "ipython2",
   "version": "2.7.6"
  }
 },
 "nbformat": 4,
 "nbformat_minor": 5
}
